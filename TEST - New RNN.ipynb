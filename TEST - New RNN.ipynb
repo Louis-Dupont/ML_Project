{
 "cells": [
  {
   "cell_type": "code",
   "execution_count": 1,
   "metadata": {},
   "outputs": [],
   "source": [
    "import pandas as pd\n",
    "import numpy as np\n",
    "import matplotlib.pyplot as plt\n",
    "from matplotlib.pyplot import figure\n",
    "\n",
    "\n",
    "path = '/Users/louis/Desktop/Tsinghua/Machine Learning/1_Project/DataSet/'\n",
    "state = 'Full_Data'\n",
    "full_path = path+state+'.csv'\n",
    "data_set = pd.read_csv(full_path)\n",
    "criteria = \"Occurence\"\n",
    "\n",
    "# OR → criteria = \"Percent\"\n",
    "\n",
    "# REM : f(a|b, c) means f(a) knowing b and c (e.g. with b and c fixed)\n",
    "\n",
    "# INPUT : State & Name\n",
    "# OUTPUT : Occurence = f(Year|State, Name)\n",
    "def get_year(state, name, data_set_= data_set):\n",
    "    return data_set_[data_set_[\"State\"]==state][data_set_[\"Name\"]==name]\n",
    "\n",
    "# INPUT : Name\n",
    "# OUTPUT : for each State : Occurence = f(year|State, Name)\n",
    "def get_year_list(name, data_set_= data_set):\n",
    "    return data_set_[data_set_[\"Name\"]==name].pivot_table(index=[\"Year\"],columns='State',values=\"Occurence\")\n",
    "\n",
    "# INPUT : Name\n",
    "# OUTPUT : On average for the USA : Occurence = f(year|Name)\n",
    "def get_year_USA(name, data_set_=data_set):\n",
    "    if criteria==\"Percent\" : print(\"/!\\ get_year_USA USES OCCURENCE, NOT PERCENT /!\\ \")\n",
    "    return data_set_[data_set_[\"Name\"]==name].pivot_table(index=[\"Year\"],columns='State',values=\"Occurence\").sum(axis=1)\n",
    "\n",
    "    \n",
    "# INPUT : Year & Name\n",
    "# OUTPUT : Occurence = f(State|Year, Name)    \n",
    "def get_state(year, name, data_set_= data_set):\n",
    "    return data_set_[data_set_[\"Year\"]==year][data_set_[\"Name\"]==name]\n",
    "\n",
    "# INPUT : Year & State\n",
    "# OUTPUT : Occurence = f(Name|Year, State)\n",
    "def get_name(year, state, data_set_= data_set):\n",
    "    return data_set_[data_set_[\"Year\"]==year][data_set_[\"State\"]==state]\n",
    "\n",
    "\n",
    "# OUTPUT : List of every states in the data set\n",
    "def get_list_states(data_set_ = data_set):\n",
    "    return data_set[\"State\"].drop_duplicates()\n",
    "\n",
    "\n",
    "# INPUT (optional) unique = False => ith name is the most popular in the (1910+i)th year\n",
    "#       (optional) period = [a,b] => only select the popular names from this period\n",
    "# OUTPUT : For every year of the period, returns the most popular among the states with the number of occurences\n",
    "# FORMAT : LIST\n",
    "def get_list_most_used_names_year(unique = True, data_set_ = data_set):\n",
    "    temp_val = data_set_.pivot_table(index=\"Year\", columns=[\"Name\",\"State\"],values=\"Occurence\").idxmax(axis=1).values\n",
    "    name_list = [name for (name, state) in temp_val]\n",
    "    if not unique:\n",
    "        return name_list\n",
    "    return [name_list[i] for i in sorted(np.unique(name_list, return_index=True)[1])]\n",
    "\n",
    "##################################################\n",
    "\n",
    "# >> NOT THE MOST USEFULL FUNCTIONS BELOW << \n",
    "\n",
    "# INPUT (optional) length = n => get the top n names. \n",
    "#       (optional) period = [a,b] => only select the popular names from this period\n",
    "# OUTPUT : the most popular names among the states with the number of occurences and within the period\n",
    "# FORMAT : pd.series (pandas.core.series.Series)\n",
    "def get_most_used_names(length_=-1, period=(1910,2016), data_set_ = data_set):\n",
    "    if criteria==\"Percent\" : print(\"/!\\ get_most_used_names USES OCCURENCE, NOT PERCENT /!\\ \")\n",
    "    return data_set_[data_set_[\"Year\"].isin([i for i in range(period[0],period[1]+1)])].pivot_table(index=[\"Year\", \"State\"],columns='Name',values=\"Occurence\").sum().sort_values(ascending=False)[0:length_]\n",
    "\n",
    "# SAME AS \"get_most_used_names()\" but RETURNS a LIST with only the names\n",
    "# FORMAT : LIST\n",
    "def get_list_most_used_names(length_=-1, period=(1910,2016), data_set_ = data_set):\n",
    "    return list(get_most_used_names(length_, period, data_set_).index)\n",
    "\n"
   ]
  },
  {
   "cell_type": "code",
   "execution_count": 19,
   "metadata": {},
   "outputs": [],
   "source": [
    "nbr_states = 51\n",
    "# hyperparameters\n",
    "lr = 0.01\n",
    "\n",
    "batch_size=1\n",
    "\n",
    "\n",
    "length_data = 110 # Nombre d'années qu'on a\n",
    "\n",
    "n_steps = 50    # Années qu'on regarde\n",
    "n_iter_steps = length_data - n_steps-1"
   ]
  },
  {
   "cell_type": "code",
   "execution_count": 20,
   "metadata": {},
   "outputs": [],
   "source": [
    "list_values = get_year_list(\"Mary\").values\n",
    "import sklearn\n",
    "from sklearn.preprocessing import normalize\n",
    "\n",
    "n_inputs = nbr_states\n",
    "n_classes = nbr_states\n",
    "\n",
    "min_val = 4\n",
    "\n",
    "def get_xy(list_values_, n_steps_):\n",
    "    x_ = np.empty((len(list_values_) - n_steps_-1, n_steps_, n_inputs), float)\n",
    "    y_ = np.empty((len(list_values_) - n_steps_-1, n_steps_, n_classes), float)\n",
    "    \n",
    "    for i in range(len(list_values_) - n_steps_-1):\n",
    "        x_[i] = list_values[i:i+n_steps_]\n",
    "        y_[i] = np.transpose(np.array(list_values[i+1:i+n_steps_+1]))[0:n_classes].reshape(50, n_classes)\n",
    "\n",
    "    return x_, y_\n",
    "        \n",
    "    \n",
    "# list_values = np.array([[j for i in range(n_inputs)] for j in range(length_data)])\n",
    "list_values = np.array(get_year_list(\"Mary\").reindex(range(1910,2017)).fillna(min_val))\n",
    "list_values = list_values/np.max(list_values, axis=0) #Normalisation\n",
    "x_values, y_values = get_xy(list_values, n_steps)\n"
   ]
  },
  {
   "cell_type": "markdown",
   "metadata": {},
   "source": [
    "## TF"
   ]
  },
  {
   "cell_type": "code",
   "execution_count": 101,
   "metadata": {},
   "outputs": [],
   "source": [
    "import tensorflow as tf\n",
    "tf.reset_default_graph()\n",
    "r_neuron = 100    \n",
    "n_windows=50\n",
    "n_input=n_inputs\n",
    "n_output=n_classes\n",
    "n_hidden_layers=100\n",
    "\n",
    "\n",
    "## 1. Construct the tensors\n",
    "\n",
    "with tf.name_scope('inputs'):\n",
    "    x = tf.placeholder(tf.float32, [1, n_windows, n_input], name=\"x\")   \n",
    "    y = tf.placeholder(tf.float32, [1, n_windows, n_output], name=\"y\")\n",
    "\n",
    "    \n",
    "with tf.name_scope('Weights'):\n",
    "    weights = {\n",
    "        'first': tf.Variable(tf.truncated_normal([n_inputs, n_hidden_layers],\n",
    "                                        stddev=1./10)), \n",
    "        'second': tf.Variable(tf.truncated_normal([n_inputs, n_hidden_layers],\n",
    "                                        stddev=1./10))\n",
    "    }\n",
    "    \n",
    "    \n",
    "with tf.name_scope('Biases'):\n",
    "    biases = {\n",
    "        'first': tf.Variable(tf.constant(0.1, shape=[n_hidden_layers, ])),\n",
    "        'second': tf.Variable(tf.constant(0.1, shape=[n_hidden_layers, ]))\n",
    "    }\n",
    "\n",
    "def trans_x(X, name):\n",
    "    with tf.name_scope('Wx_plus_b'):\n",
    "        X = tf.reshape(x, [-1, n_inputs])\n",
    "        X_first = tf.matmul(X, weights[name]) + biases[name]\n",
    "        X_first = tf.reshape(X_first, [1, n_windows, n_hidden_layers])\n",
    "    return X_first\n",
    "\n",
    "\n",
    "\n",
    "## 2. create the model\n",
    "with tf.name_scope('first_cell'):\n",
    "    first_cell = tf.nn.rnn_cell.LSTMCell(n_hidden_layers)\n",
    "    \n",
    "#cell = tf.contrib.rnn.MultiRNNCell([first_cell] * 3, state_is_tuple=True)\n",
    "with tf.name_scope('RNN'):\n",
    "    first_rnn_output, first_states = tf.nn.dynamic_rnn(first_cell, trans_x(x, \"first\"), dtype=tf.float32) \n",
    "\n",
    "# first_rnn_output, first_states = tf.nn.dynamic_rnn(first_cell, tf.layers.dense(x, n_hidden_layers), dtype=tf.float32)              \n",
    "\n",
    "\n",
    "#\n",
    "# second_cell = tf.nn.rnn_cell.LSTMCell(n_hidden_layers)\n",
    "# second_rnn_output, second_states = tf.nn.dynamic_rnn(first_cell, trans_x(first_rnn_output, \"second\"), dtype=tf.float32)              \n",
    "\n",
    "with tf.name_scope('dense'):\n",
    "    stacked_rnn_output = tf.reshape(first_rnn_output, [-1, n_hidden_layers])          \n",
    "    stacked_outputs = tf.layers.dense(stacked_rnn_output, n_output)       \n",
    "    outputs = tf.reshape(stacked_outputs, [-1, n_windows, n_output])   \n",
    "      \n",
    "# stacked_outputs = tf.layers.dense(first_rnn_output, n_output)     \n",
    "\n",
    "## 3. Loss + optimization\n",
    "learning_rate = 0.01  \n",
    "with tf.name_scope('loss'):\n",
    "    loss = tf.reduce_sum(tf.square(outputs - y))    \n",
    "    \n",
    "    \n",
    "with tf.name_scope('optimizer'):\n",
    "    optimizer = tf.train.AdamOptimizer(learning_rate=learning_rate) \n",
    "\n",
    "with tf.name_scope('train'):\n",
    "    training_op = optimizer.minimize(loss)   \n",
    "    \n",
    "writer = tf.summary.FileWriter(\"logs/\", sess.graph)\n"
   ]
  },
  {
   "cell_type": "code",
   "execution_count": 102,
   "metadata": {
    "scrolled": true
   },
   "outputs": [
    {
     "name": "stdout",
     "output_type": "stream",
     "text": [
      "###########################\n",
      "0\n",
      "###########################\n",
      "50 \tMSE: 399.91705\n",
      "51 \tMSE: 317.8077\n",
      "52 \tMSE: 201.24202\n",
      "53 \tMSE: 178.21518\n",
      "54 \tMSE: 174.89516\n",
      "55 \tMSE: 151.08015\n",
      "56 \tMSE: 134.87025\n",
      "57 \tMSE: 134.09514\n",
      "58 \tMSE: 132.94781\n",
      "59 \tMSE: 132.49731\n",
      "60 \tMSE: 134.32185\n",
      "61 \tMSE: 135.77448\n",
      "62 \tMSE: 139.24417\n",
      "63 \tMSE: 143.9971\n",
      "64 \tMSE: 146.64856\n",
      "65 \tMSE: 149.89427\n",
      "66 \tMSE: 154.83229\n",
      "67 \tMSE: 155.8092\n",
      "68 \tMSE: 159.40205\n",
      "69 \tMSE: 161.77795\n",
      "70 \tMSE: 162.0628\n",
      "71 \tMSE: 163.31209\n",
      "72 \tMSE: 162.72273\n",
      "73 \tMSE: 164.2263\n",
      "74 \tMSE: 165.81133\n",
      "75 \tMSE: 166.69633\n",
      "76 \tMSE: 167.1813\n",
      "77 \tMSE: 168.35907\n",
      "78 \tMSE: 165.33836\n",
      "79 \tMSE: 165.21532\n",
      "80 \tMSE: 164.17134\n",
      "81 \tMSE: 162.14803\n",
      "82 \tMSE: 160.89993\n",
      "83 \tMSE: 157.90134\n",
      "84 \tMSE: 156.61775\n",
      "85 \tMSE: 154.57666\n",
      "86 \tMSE: 151.01254\n",
      "87 \tMSE: 144.03415\n",
      "88 \tMSE: 137.43723\n",
      "89 \tMSE: 131.7395\n",
      "90 \tMSE: 124.3118\n",
      "91 \tMSE: 118.32353\n",
      "92 \tMSE: 111.49954\n",
      "93 \tMSE: 104.29959\n",
      "94 \tMSE: 94.45294\n",
      "95 \tMSE: 86.4121\n",
      "96 \tMSE: 78.09043\n",
      "97 \tMSE: 69.17884\n",
      "98 \tMSE: 62.626396\n",
      "99 \tMSE: 56.23642\n",
      "100 \tMSE: 49.697254\n",
      "###########################\n",
      "1\n",
      "###########################\n",
      "###########################\n",
      "2\n",
      "###########################\n",
      "###########################\n",
      "3\n",
      "###########################\n",
      "###########################\n",
      "4\n",
      "###########################\n",
      "###########################\n",
      "5\n",
      "###########################\n",
      "50 \tMSE: 491.16623\n",
      "51 \tMSE: 441.04333\n",
      "52 \tMSE: 369.8036\n",
      "53 \tMSE: 292.3206\n",
      "54 \tMSE: 220.12985\n",
      "55 \tMSE: 162.59076\n",
      "56 \tMSE: 128.29478\n",
      "57 \tMSE: 116.85001\n",
      "58 \tMSE: 125.94264\n",
      "59 \tMSE: 148.77805\n",
      "60 \tMSE: 177.08958\n",
      "61 \tMSE: 204.56279\n",
      "62 \tMSE: 227.22328\n",
      "63 \tMSE: 241.75241\n",
      "64 \tMSE: 245.61671\n",
      "65 \tMSE: 240.3007\n",
      "66 \tMSE: 230.2483\n",
      "67 \tMSE: 216.59912\n",
      "68 \tMSE: 201.97227\n",
      "69 \tMSE: 188.15854\n",
      "70 \tMSE: 177.18723\n",
      "71 \tMSE: 171.56897\n",
      "72 \tMSE: 172.75644\n",
      "73 \tMSE: 172.27623\n",
      "74 \tMSE: 170.93831\n",
      "75 \tMSE: 172.22588\n",
      "76 \tMSE: 174.92326\n",
      "77 \tMSE: 176.69202\n",
      "78 \tMSE: 177.152\n",
      "79 \tMSE: 176.34576\n",
      "80 \tMSE: 172.48506\n",
      "81 \tMSE: 167.49313\n",
      "82 \tMSE: 162.47643\n",
      "83 \tMSE: 156.00832\n",
      "84 \tMSE: 152.79086\n",
      "85 \tMSE: 150.28085\n",
      "86 \tMSE: 146.1236\n",
      "87 \tMSE: 140.06387\n",
      "88 \tMSE: 133.03252\n",
      "89 \tMSE: 125.26552\n",
      "90 \tMSE: 119.05733\n",
      "91 \tMSE: 111.73959\n",
      "92 \tMSE: 102.68093\n",
      "93 \tMSE: 95.15085\n",
      "94 \tMSE: 87.905594\n",
      "95 \tMSE: 81.27539\n",
      "96 \tMSE: 74.35219\n",
      "97 \tMSE: 66.36007\n",
      "98 \tMSE: 60.882587\n",
      "99 \tMSE: 56.372147\n",
      "100 \tMSE: 52.043373\n",
      "###########################\n",
      "6\n",
      "###########################\n",
      "###########################\n",
      "7\n",
      "###########################\n",
      "###########################\n",
      "8\n",
      "###########################\n",
      "###########################\n",
      "9\n",
      "###########################\n",
      "###########################\n",
      "10\n",
      "###########################\n",
      "50 \tMSE: 537.41736\n",
      "51 \tMSE: 468.1855\n",
      "52 \tMSE: 366.7297\n",
      "53 \tMSE: 266.1524\n",
      "54 \tMSE: 175.41519\n",
      "55 \tMSE: 119.387726\n",
      "56 \tMSE: 114.691536\n",
      "57 \tMSE: 150.6167\n",
      "58 \tMSE: 202.4238\n",
      "59 \tMSE: 245.76132\n",
      "60 \tMSE: 266.07083\n",
      "61 \tMSE: 263.48346\n",
      "62 \tMSE: 244.7195\n",
      "63 \tMSE: 220.89862\n",
      "64 \tMSE: 196.29628\n",
      "65 \tMSE: 177.56445\n",
      "66 \tMSE: 168.40576\n",
      "67 \tMSE: 164.56743\n",
      "68 \tMSE: 166.59642\n",
      "69 \tMSE: 171.98355\n",
      "70 \tMSE: 177.31224\n",
      "71 \tMSE: 183.5045\n",
      "72 \tMSE: 187.86798\n",
      "73 \tMSE: 189.8496\n",
      "74 \tMSE: 187.38773\n",
      "75 \tMSE: 179.31998\n",
      "76 \tMSE: 169.10312\n",
      "77 \tMSE: 163.19745\n",
      "78 \tMSE: 159.9974\n",
      "79 \tMSE: 155.06885\n",
      "80 \tMSE: 151.47751\n",
      "81 \tMSE: 143.7452\n",
      "82 \tMSE: 138.40599\n",
      "83 \tMSE: 149.83757\n",
      "84 \tMSE: 145.4293\n",
      "85 \tMSE: 126.73188\n",
      "86 \tMSE: 118.35056\n",
      "87 \tMSE: 118.69777\n",
      "88 \tMSE: 114.97526\n",
      "89 \tMSE: 100.81692\n",
      "90 \tMSE: 91.508095\n",
      "91 \tMSE: 92.34372\n",
      "92 \tMSE: 90.791595\n",
      "93 \tMSE: 82.03276\n",
      "94 \tMSE: 75.22272\n",
      "95 \tMSE: 73.5132\n",
      "96 \tMSE: 70.22645\n",
      "97 \tMSE: 61.31556\n",
      "98 \tMSE: 54.737434\n",
      "99 \tMSE: 50.332127\n",
      "100 \tMSE: 46.776527\n",
      "###########################\n",
      "11\n",
      "###########################\n",
      "###########################\n",
      "12\n",
      "###########################\n",
      "###########################\n",
      "13\n",
      "###########################\n",
      "###########################\n",
      "14\n",
      "###########################\n",
      "###########################\n",
      "15\n",
      "###########################\n",
      "50 \tMSE: 448.94012\n",
      "51 \tMSE: 324.11713\n",
      "52 \tMSE: 208.87006\n",
      "53 \tMSE: 134.24272\n",
      "54 \tMSE: 110.73654\n",
      "55 \tMSE: 133.9303\n",
      "56 \tMSE: 182.03238\n",
      "57 \tMSE: 229.21066\n",
      "58 \tMSE: 258.89178\n",
      "59 \tMSE: 262.75198\n",
      "60 \tMSE: 255.05652\n",
      "61 \tMSE: 232.69598\n",
      "62 \tMSE: 206.47784\n",
      "63 \tMSE: 181.1543\n",
      "64 \tMSE: 161.45683\n",
      "65 \tMSE: 152.85834\n",
      "66 \tMSE: 154.40807\n",
      "67 \tMSE: 162.61214\n",
      "68 \tMSE: 173.3489\n",
      "69 \tMSE: 182.28012\n",
      "70 \tMSE: 184.27092\n",
      "71 \tMSE: 185.67679\n",
      "72 \tMSE: 175.72304\n",
      "73 \tMSE: 171.75175\n",
      "74 \tMSE: 165.00983\n",
      "75 \tMSE: 156.2257\n",
      "76 \tMSE: 152.03304\n",
      "77 \tMSE: 142.25002\n",
      "78 \tMSE: 148.31062\n",
      "79 \tMSE: 156.50601\n",
      "80 \tMSE: 157.03929\n",
      "81 \tMSE: 149.01617\n",
      "82 \tMSE: 137.01524\n",
      "83 \tMSE: 136.25958\n",
      "84 \tMSE: 125.44315\n",
      "85 \tMSE: 124.96389\n",
      "86 \tMSE: 120.6924\n",
      "87 \tMSE: 115.889656\n",
      "88 \tMSE: 114.203995\n",
      "89 \tMSE: 109.035805\n",
      "90 \tMSE: 102.26618\n",
      "91 \tMSE: 97.44367\n",
      "92 \tMSE: 94.712585\n",
      "93 \tMSE: 88.317444\n",
      "94 \tMSE: 81.301025\n",
      "95 \tMSE: 75.784004\n",
      "96 \tMSE: 71.3019\n",
      "97 \tMSE: 65.22313\n",
      "98 \tMSE: 60.79379\n",
      "99 \tMSE: 55.051826\n",
      "100 \tMSE: 50.680805\n",
      "###########################\n",
      "16\n",
      "###########################\n",
      "###########################\n",
      "17\n",
      "###########################\n",
      "###########################\n",
      "18\n",
      "###########################\n",
      "###########################\n",
      "19\n",
      "###########################\n"
     ]
    }
   ],
   "source": [
    "with tf.Session() as sess:\n",
    "    init = tf.global_variables_initializer()\n",
    "    sess.run(init)\n",
    "    \n",
    "    \n",
    "    iteration = 20 \n",
    "    n_prediction = 5\n",
    "    \n",
    "    #TRAINING PHASE\n",
    "    for i in range(iteration):\n",
    "        print(\"###########################\")\n",
    "        print(i)\n",
    "        print(\"###########################\")\n",
    "        for j in range(len(x_values)-n_prediction):\n",
    "            batch_xs = x_values[j].reshape(-1,n_steps, n_inputs)\n",
    "            batch_ys = y_values[j].reshape(-1,n_steps, n_classes)\n",
    "\n",
    "            sess.run(training_op, feed_dict={\n",
    "                x: batch_xs,\n",
    "                y: batch_ys,\n",
    "            })\n",
    "\n",
    "            if i % 5 == 0:\n",
    "                mse = loss.eval(feed_dict={x: batch_xs, y: batch_ys})\n",
    "                print(j+n_steps, \"\\tMSE:\", mse)\n",
    "    \n",
    "    \n",
    "    batch_xs = x_values[len(x_values)-n_prediction-1].reshape(-1,n_steps, n_inputs)\n",
    "    batch_ys = y_values[len(x_values)-n_prediction-1].reshape(-1,n_steps, n_classes)\n",
    "    x_pred_values = list()\n",
    "    for j in range(n_prediction+1):\n",
    "        \n",
    "        batch_xs = sess.run(outputs, feed_dict={\n",
    "            x: batch_xs,\n",
    "            y: batch_ys,\n",
    "        })\n",
    "        x_pred_values.append(batch_xs[-1].tolist())\n",
    "        \n",
    "\n"
   ]
  },
  {
   "cell_type": "code",
   "execution_count": 96,
   "metadata": {},
   "outputs": [],
   "source": [
    "x_real_graph = np.concatenate(([val[0] for val in x_values],x_values[-1]), axis = 0)\n",
    "x_pred_graph = np.concatenate((x_real_graph[0:-len(x_pred_values)],[val[-1] for val in x_pred_values]), axis=0)\n",
    "\n",
    "x_real_graph, x_pred_graph = np.transpose(x_real_graph)[0], np.transpose(x_pred_graph)[0]"
   ]
  },
  {
   "cell_type": "code",
   "execution_count": 97,
   "metadata": {},
   "outputs": [
    {
     "data": {
      "text/plain": [
       "<matplotlib.legend.Legend at 0x1e5ba98dcf8>"
      ]
     },
     "execution_count": 97,
     "metadata": {},
     "output_type": "execute_result"
    },
    {
     "data": {
      "image/png": "[encoded data removed]",
      "text/plain": [
       "<Figure size 432x288 with 1 Axes>"
      ]
     },
     "metadata": {
      "needs_background": "light"
     },
     "output_type": "display_data"
    }
   ],
   "source": [
    "plt.plot(x_real_graph[-10:], label = \"real\")\n",
    "plt.plot(x_pred_graph[-10:], label = \"pred\")\n",
    "plt.legend()"
   ]
  },
  {
   "cell_type": "code",
   "execution_count": 52,
   "metadata": {},
   "outputs": [
    {
     "data": {
      "text/plain": [
       "<matplotlib.legend.Legend at 0x1e5b6a19e48>"
      ]
     },
     "execution_count": 52,
     "metadata": {},
     "output_type": "execute_result"
    },
    {
     "data": {
      "image/png": "[encoded data removed]",
      "text/plain": [
       "<Figure size 432x288 with 1 Axes>"
      ]
     },
     "metadata": {
      "needs_background": "light"
     },
     "output_type": "display_data"
    }
   ],
   "source": [
    "plt.plot(x_real_graph[-10:], label = \"real\")\n",
    "plt.plot(x_pred_graph[-10:], label = \"pred\")\n",
    "plt.legend()"
   ]
  },
  {
   "cell_type": "code",
   "execution_count": 29,
   "metadata": {},
   "outputs": [
    {
     "data": {
      "text/plain": [
       "<matplotlib.legend.Legend at 0x1e5a7ce90b8>"
      ]
     },
     "execution_count": 29,
     "metadata": {},
     "output_type": "execute_result"
    },
    {
     "data": {
      "image/png": "[encoded data removed]",
      "text/plain": [
       "<Figure size 432x288 with 1 Axes>"
      ]
     },
     "metadata": {
      "needs_background": "light"
     },
     "output_type": "display_data"
    }
   ],
   "source": [
    "plt.plot(x_real_graph[-10:], label = \"real\")\n",
    "plt.plot(x_pred_graph[-10:], label = \"pred\")\n",
    "plt.legend()"
   ]
  },
  {
   "cell_type": "code",
   "execution_count": 18,
   "metadata": {},
   "outputs": [
    {
     "data": {
      "text/plain": [
       "<matplotlib.legend.Legend at 0x1e5b54751d0>"
      ]
     },
     "execution_count": 18,
     "metadata": {},
     "output_type": "execute_result"
    },
    {
     "data": {
      "image/png": "[encoded data removed]",
      "text/plain": [
       "<Figure size 432x288 with 1 Axes>"
      ]
     },
     "metadata": {
      "needs_background": "light"
     },
     "output_type": "display_data"
    }
   ],
   "source": [
    "plt.plot(x_real_graph[-10:], label = \"real\")\n",
    "plt.plot(x_pred_graph[-10:], label = \"pred\")\n",
    "plt.legend()"
   ]
  },
  {
   "cell_type": "code",
   "execution_count": 14,
   "metadata": {},
   "outputs": [
    {
     "data": {
      "text/plain": [
       "<matplotlib.legend.Legend at 0x1e5afe36c18>"
      ]
     },
     "execution_count": 14,
     "metadata": {},
     "output_type": "execute_result"
    },
    {
     "data": {
      "image/png": "[encoded data removed]",
      "text/plain": [
       "<Figure size 432x288 with 1 Axes>"
      ]
     },
     "metadata": {
      "needs_background": "light"
     },
     "output_type": "display_data"
    }
   ],
   "source": [
    "plt.plot(x_real_graph[-10:], label = \"real\")\n",
    "plt.plot(x_pred_graph[-10:], label = \"pred\")\n",
    "plt.legend()"
   ]
  },
  {
   "cell_type": "code",
   "execution_count": null,
   "metadata": {},
   "outputs": [],
   "source": [
    "### Problème : on regarde au rang t+1 mais ça varie beaucoup trop ! Il faudrait lisser ou voir plus loin"
   ]
  },
  {
   "cell_type": "code",
   "execution_count": null,
   "metadata": {},
   "outputs": [],
   "source": []
  }
 ],
 "metadata": {
  "kernelspec": {
   "display_name": "Python 3",
   "language": "python",
   "name": "python3"
  },
  "language_info": {
   "codemirror_mode": {
    "name": "ipython",
    "version": 3
   },
   "file_extension": ".py",
   "mimetype": "text/x-python",
   "name": "python",
   "nbconvert_exporter": "python",
   "pygments_lexer": "ipython3",
   "version": "3.6.7"
  }
 },
 "nbformat": 4,
 "nbformat_minor": 2
}
